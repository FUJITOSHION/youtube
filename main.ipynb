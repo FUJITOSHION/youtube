{
  "nbformat": 4,
  "nbformat_minor": 0,
  "metadata": {
    "jupytext": {
      "text_representation": {
        "extension": ".py",
        "format_name": "light",
        "format_version": "1.5",
        "jupytext_version": "1.5.0"
      }
    },
    "kernelspec": {
      "display_name": "Python 3",
      "language": "python",
      "name": "python3"
    },
    "language_info": {
      "codemirror_mode": {
        "name": "ipython",
        "version": 3
      },
      "file_extension": ".py",
      "mimetype": "text/x-python",
      "name": "python",
      "nbconvert_exporter": "python",
      "pygments_lexer": "ipython3",
      "version": "3.7.6"
    },
    "colab": {
      "name": "main.ipynb",
      "provenance": []
    }
  },
  "cells": [
    {
      "cell_type": "code",
      "metadata": {
        "id": "SiSvlJ-XdVa1",
        "colab_type": "code",
        "colab": {
          "base_uri": "https://localhost:8080/",
          "height": 34
        },
        "outputId": "090178a9-eb94-4afc-f0b9-369daae2963b"
      },
      "source": [
        "from google.colab import drive\n",
        "drive.mount('/content/drive')"
      ],
      "execution_count": 101,
      "outputs": [
        {
          "output_type": "stream",
          "text": [
            "Drive already mounted at /content/drive; to attempt to forcibly remount, call drive.mount(\"/content/drive\", force_remount=True).\n"
          ],
          "name": "stdout"
        }
      ]
    },
    {
      "cell_type": "code",
      "metadata": {
        "id": "VGcDUI5Bc0CU",
        "colab_type": "code",
        "colab": {}
      },
      "source": [
        "import re\n",
        "import pandas as pd\n",
        "import numpy as np\n",
        "import gc\n",
        "import xgboost as xgb\n",
        "from sklearn.model_selection import KFold\n",
        "from sklearn.metrics import mean_squared_log_error\n",
        "import lightgbm as lgb\n",
        "from matplotlib_venn import venn2\n",
        "from matplotlib import pyplot\n",
        "from sklearn.preprocessing import LabelEncoder"
      ],
      "execution_count": 102,
      "outputs": []
    },
    {
      "cell_type": "code",
      "metadata": {
        "id": "rVu5VpFWc0Cb",
        "colab_type": "code",
        "colab": {}
      },
      "source": [
        "train_df = pd.read_csv('/content/drive/My Drive/youtube_compe/data/train_data.csv')\n",
        "test_df = pd.read_csv('/content/drive/My Drive/youtube_compe/data/test_data.csv')"
      ],
      "execution_count": 103,
      "outputs": []
    },
    {
      "cell_type": "markdown",
      "metadata": {
        "id": "m1KvkIxWc0Cp",
        "colab_type": "text"
      },
      "source": [
        "### preprocessing"
      ]
    },
    {
      "cell_type": "code",
      "metadata": {
        "id": "HnNEYLDm9-X_",
        "colab_type": "code",
        "colab": {}
      },
      "source": [
        "# targetを使用したもの\n",
        "# category_id\n",
        "category_mean_ = train_df[[\"categoryId\", \"y\"]].groupby(\"categoryId\").mean().reset_index().rename({\"y\":\"category_mean\"}, axis=1)\n",
        "category_max_ = train_df[[\"categoryId\", \"y\"]].groupby(\"categoryId\").max().reset_index().rename({\"y\":\"category_max\"}, axis=1)\n",
        "category_min_ = train_df[[\"categoryId\", \"y\"]].groupby(\"categoryId\").min().reset_index().rename({\"y\":\"category_min\"}, axis=1)\n",
        "category_std_ = train_df[[\"categoryId\", \"y\"]].groupby(\"categoryId\").std().reset_index().rename({\"y\":\"category_std\"}, axis=1)\n",
        "category_count_ = train_df[[\"categoryId\", \"y\"]].groupby(\"categoryId\").count().reset_index().rename({\"y\":\"category_count\"}, axis=1)\n",
        "category_q1_ = train_df[[\"categoryId\", \"y\"]].groupby(\"categoryId\").quantile(0.1).reset_index().rename({\"y\":\"category_q1\"}, axis=1)\n",
        "category_q25_ = train_df[[\"categoryId\", \"y\"]].groupby(\"categoryId\").quantile(0.25).reset_index().rename({\"y\":\"category_q25\"}, axis=1)\n",
        "category_q5_ = train_df[[\"categoryId\", \"y\"]].groupby(\"categoryId\").quantile(0.5).reset_index().rename({\"y\":\"category_q5\"}, axis=1)\n",
        "category_q75_ = train_df[[\"categoryId\", \"y\"]].groupby(\"categoryId\").quantile(0.75).reset_index().rename({\"y\":\"category_q75\"}, axis=1)\n",
        "category_q9_ = train_df[[\"categoryId\", \"y\"]].groupby(\"categoryId\").quantile(0.9).reset_index().rename({\"y\":\"category_q9\"}, axis=1)\n",
        "# c"
      ],
      "execution_count": 104,
      "outputs": []
    },
    {
      "cell_type": "code",
      "metadata": {
        "id": "VFKpESahc0Ch",
        "colab_type": "code",
        "colab": {}
      },
      "source": [
        "train_y = train_df['y']\n",
        "del train_df[\"y\"]"
      ],
      "execution_count": 105,
      "outputs": []
    },
    {
      "cell_type": "code",
      "metadata": {
        "id": "lhfYPxVoc0Cm",
        "colab_type": "code",
        "colab": {}
      },
      "source": [
        "df = pd.concat([train_df, test_df])"
      ],
      "execution_count": 106,
      "outputs": []
    },
    {
      "cell_type": "code",
      "metadata": {
        "id": "4CQhumaRtSkg",
        "colab_type": "code",
        "colab": {}
      },
      "source": [
        "# merge\n",
        "df = df.merge(category_mean_, how='left', on=[\"categoryId\"])\n",
        "df = df.merge(category_max_, how='left', on=[\"categoryId\"])\n",
        "df = df.merge(category_min_, how='left', on=[\"categoryId\"])\n",
        "df = df.merge(category_std_, how='left', on=[\"categoryId\"])\n",
        "#df = df.merge(count_, how='left', on=[\"categoryId\"])\n",
        "df = df.merge(category_q1_, how='left', on=[\"categoryId\"])\n",
        "df = df.merge(category_q25_, how='left', on=[\"categoryId\"])\n",
        "df = df.merge(category_q5_, how='left', on=[\"categoryId\"])\n",
        "df = df.merge(category_q75_, how='left', on=[\"categoryId\"])\n",
        "df = df.merge(category_q9_, how='left', on=[\"categoryId\"])"
      ],
      "execution_count": 107,
      "outputs": []
    },
    {
      "cell_type": "code",
      "metadata": {
        "id": "r88X4-GWc0Cq",
        "colab_type": "code",
        "colab": {}
      },
      "source": [
        "# channelId\n",
        "le_channelId = LabelEncoder()\n",
        "df['channelId'] = le_channelId.fit_transform(df['channelId'])"
      ],
      "execution_count": 108,
      "outputs": []
    },
    {
      "cell_type": "code",
      "metadata": {
        "id": "r8M0HDIuc0Ct",
        "colab_type": "code",
        "colab": {}
      },
      "source": [
        "# drop id , video_id  and thumbnail_link\n",
        "del df['id']\n",
        "del df['video_id']\n",
        "del df['thumbnail_link']"
      ],
      "execution_count": 109,
      "outputs": []
    },
    {
      "cell_type": "code",
      "metadata": {
        "id": "qDqtcLMvc0Cx",
        "colab_type": "code",
        "colab": {}
      },
      "source": [
        "# publishedAt\n",
        "df[\"publishedAt\"] = pd.to_datetime(df[\"publishedAt\"])\n",
        "df[\"year\"] = df[\"publishedAt\"].dt.year\n",
        "df[\"month\"] = df[\"publishedAt\"].dt.month\n",
        "df[\"day\"] = df[\"publishedAt\"].dt.day\n",
        "df[\"hour\"] = df[\"publishedAt\"].dt.hour\n",
        "df[\"minute\"] = df[\"publishedAt\"].dt.minute\n",
        "del df[\"publishedAt\"]"
      ],
      "execution_count": 110,
      "outputs": []
    },
    {
      "cell_type": "code",
      "metadata": {
        "id": "0jnstc-Hc0C2",
        "colab_type": "code",
        "colab": {}
      },
      "source": [
        "# collection_date\n",
        "df[\"collection_date\"] = \"20\" + df[\"collection_date\"]\n",
        "df[\"collection_date\"] = pd.to_datetime(df[\"collection_date\"], format=\"%Y.%d.%m\")\n",
        "df[\"c_year\"] = df[\"collection_date\"].dt.year\n",
        "df[\"c_month\"] = df[\"collection_date\"].dt.month\n",
        "df[\"c_day\"] = df[\"collection_date\"].dt.day\n",
        "del df[\"collection_date\"]"
      ],
      "execution_count": 111,
      "outputs": []
    },
    {
      "cell_type": "code",
      "metadata": {
        "id": "f1ImgOlCc0C7",
        "colab_type": "code",
        "colab": {}
      },
      "source": [
        "# like and dislikes\n",
        "df['evaluation'] = df['likes'] + df['dislikes']\n",
        "df['eval_by_comment'] = df['evaluation'] * df['comment_count']\n",
        "df[\"logdislikes\"] = np.log(df[\"dislikes\"]+1)\n",
        "df[\"logcomment_count\"] = np.log(df[\"comment_count\"]+1)\n",
        "df[\"sqrtlikes\"] = np.sqrt(df[\"likes\"])\n",
        "df[\"like_dislike_ratio\"] = df[\"likes\"]/(df[\"dislikes\"]+1)\n",
        "df[\"comments_like_ratio\"] = df[\"comment_count\"]/(df[\"likes\"]+1)\n",
        "df[\"comments_dislike_ratio\"] = df[\"comment_count\"]/(df[\"dislikes\"]+1)\n",
        "# likes comments diable\n",
        "df[\"likes_com\"] = df[\"likes\"] * df[\"comments_disabled\"]\n",
        "df[\"dislikes_com\"] = df[\"dislikes\"] * df[\"comments_disabled\"]\n",
        "df[\"comments_likes\"] = df[\"comment_count\"] * df[\"ratings_disabled\"]"
      ],
      "execution_count": 112,
      "outputs": []
    },
    {
      "cell_type": "code",
      "metadata": {
        "id": "Uhifm4uqcxFZ",
        "colab_type": "code",
        "colab": {}
      },
      "source": [
        "#channel TItle\n",
        "channel_title_doct = df['channelTitle'].value_counts().to_dict()\n",
        "df['channelTItle_count'] = df['channelTitle'].apply(lambda x: channel_title_doct[x] if x in channel_title_doct else 0)"
      ],
      "execution_count": 113,
      "outputs": []
    },
    {
      "cell_type": "code",
      "metadata": {
        "id": "_9nbQtpcMBse",
        "colab_type": "code",
        "colab": {}
      },
      "source": [
        "# length_tags\n",
        "df[\"tags\"].fillna(\"[none]\", inplace=True)\n",
        "df[\"num_tags\"] = df[\"tags\"].astype(str).apply(lambda x: len(x.split(\"|\")))\n",
        "df[\"length_tags\"] = df[\"tags\"].astype(str).apply(lambda x: len(x))"
      ],
      "execution_count": 114,
      "outputs": []
    },
    {
      "cell_type": "code",
      "metadata": {
        "id": "nyFMuvU7Rlr5",
        "colab_type": "code",
        "colab": {}
      },
      "source": [
        "# title\n",
        "df['official']  = df['title'].apply(lambda x: True if 'Official' in x else False)\n",
        "df['title_length'] = df['title'].apply(lambda x: len(x))"
      ],
      "execution_count": 115,
      "outputs": []
    },
    {
      "cell_type": "code",
      "metadata": {
        "id": "2JSiiABWRnkL",
        "colab_type": "code",
        "colab": {}
      },
      "source": [
        "# description\n",
        "df[\"description\"].fillna(\" \", inplace=True)\n",
        "df[\"ishttp_in_dis\"] = df[\"description\"].apply(lambda x: x.lower().count(\"http\"))\n",
        "df[\"len_description\"] = df[\"description\"].apply(lambda x: len(x))\n",
        "df[\"conEn_title\"] = df[\"title\"].apply(lambda x: len(re.findall(r'[a-zA-Z0-9]', x.lower())))\n",
        "df[\"conEn_tags\"] = df[\"tags\"].apply(lambda x: len(re.findall(r'[a-zA-Z0-9]', x.lower())))\n",
        "df[\"conEn_description\"] = df[\"description\"].apply(lambda x: len(re.findall(r'[a-zA-Z0-9]', x.lower())))"
      ],
      "execution_count": 116,
      "outputs": []
    },
    {
      "cell_type": "code",
      "metadata": {
        "id": "ReyWuUXfizSv",
        "colab_type": "code",
        "colab": {
          "base_uri": "https://localhost:8080/",
          "height": 465
        },
        "outputId": "79db1c11-678d-4fc0-ad4a-d1d8896defad"
      },
      "source": [
        "df.head(4)"
      ],
      "execution_count": 117,
      "outputs": [
        {
          "output_type": "execute_result",
          "data": {
            "text/html": [
              "<div>\n",
              "<style scoped>\n",
              "    .dataframe tbody tr th:only-of-type {\n",
              "        vertical-align: middle;\n",
              "    }\n",
              "\n",
              "    .dataframe tbody tr th {\n",
              "        vertical-align: top;\n",
              "    }\n",
              "\n",
              "    .dataframe thead th {\n",
              "        text-align: right;\n",
              "    }\n",
              "</style>\n",
              "<table border=\"1\" class=\"dataframe\">\n",
              "  <thead>\n",
              "    <tr style=\"text-align: right;\">\n",
              "      <th></th>\n",
              "      <th>title</th>\n",
              "      <th>channelId</th>\n",
              "      <th>channelTitle</th>\n",
              "      <th>categoryId</th>\n",
              "      <th>tags</th>\n",
              "      <th>likes</th>\n",
              "      <th>dislikes</th>\n",
              "      <th>comment_count</th>\n",
              "      <th>comments_disabled</th>\n",
              "      <th>ratings_disabled</th>\n",
              "      <th>description</th>\n",
              "      <th>category_mean</th>\n",
              "      <th>category_max</th>\n",
              "      <th>category_min</th>\n",
              "      <th>category_std</th>\n",
              "      <th>category_q1</th>\n",
              "      <th>category_q25</th>\n",
              "      <th>category_q5</th>\n",
              "      <th>category_q75</th>\n",
              "      <th>category_q9</th>\n",
              "      <th>year</th>\n",
              "      <th>month</th>\n",
              "      <th>day</th>\n",
              "      <th>hour</th>\n",
              "      <th>minute</th>\n",
              "      <th>c_year</th>\n",
              "      <th>c_month</th>\n",
              "      <th>c_day</th>\n",
              "      <th>evaluation</th>\n",
              "      <th>eval_by_comment</th>\n",
              "      <th>logdislikes</th>\n",
              "      <th>logcomment_count</th>\n",
              "      <th>sqrtlikes</th>\n",
              "      <th>like_dislike_ratio</th>\n",
              "      <th>comments_like_ratio</th>\n",
              "      <th>comments_dislike_ratio</th>\n",
              "      <th>likes_com</th>\n",
              "      <th>dislikes_com</th>\n",
              "      <th>comments_likes</th>\n",
              "      <th>channelTItle_count</th>\n",
              "      <th>num_tags</th>\n",
              "      <th>length_tags</th>\n",
              "      <th>official</th>\n",
              "      <th>title_length</th>\n",
              "      <th>ishttp_in_dis</th>\n",
              "      <th>len_description</th>\n",
              "      <th>conEn_title</th>\n",
              "      <th>conEn_tags</th>\n",
              "      <th>conEn_description</th>\n",
              "    </tr>\n",
              "  </thead>\n",
              "  <tbody>\n",
              "    <tr>\n",
              "      <th>0</th>\n",
              "      <td>[12] BGM Inazuma Eleven 3 - ~ライオコツト ダンジョン~</td>\n",
              "      <td>7498</td>\n",
              "      <td>DjangoShiny</td>\n",
              "      <td>20</td>\n",
              "      <td>Inazuma|Eleven|Super|Once|bgm|ost|イナズマイレブン|Kyo...</td>\n",
              "      <td>114</td>\n",
              "      <td>0</td>\n",
              "      <td>7</td>\n",
              "      <td>False</td>\n",
              "      <td>False</td>\n",
              "      <td>~ライオコツト ダンジョン~Inazuma Eleven 3 BGM Complete (R...</td>\n",
              "      <td>1.110494e+06</td>\n",
              "      <td>1.953992e+07</td>\n",
              "      <td>48.0</td>\n",
              "      <td>2.052324e+06</td>\n",
              "      <td>30670.4</td>\n",
              "      <td>121542.25</td>\n",
              "      <td>433934.5</td>\n",
              "      <td>1162340.25</td>\n",
              "      <td>2603043.6</td>\n",
              "      <td>2011</td>\n",
              "      <td>1</td>\n",
              "      <td>9</td>\n",
              "      <td>5</td>\n",
              "      <td>50</td>\n",
              "      <td>2020</td>\n",
              "      <td>2</td>\n",
              "      <td>1</td>\n",
              "      <td>114</td>\n",
              "      <td>798</td>\n",
              "      <td>0.000000</td>\n",
              "      <td>2.079442</td>\n",
              "      <td>10.677078</td>\n",
              "      <td>114.000000</td>\n",
              "      <td>0.060870</td>\n",
              "      <td>7.000000</td>\n",
              "      <td>0</td>\n",
              "      <td>0</td>\n",
              "      <td>0</td>\n",
              "      <td>1</td>\n",
              "      <td>48</td>\n",
              "      <td>315</td>\n",
              "      <td>False</td>\n",
              "      <td>42</td>\n",
              "      <td>0</td>\n",
              "      <td>61</td>\n",
              "      <td>19</td>\n",
              "      <td>258</td>\n",
              "      <td>38</td>\n",
              "    </tr>\n",
              "    <tr>\n",
              "      <th>1</th>\n",
              "      <td>ねごと - メルシールー [Official Music Video]</td>\n",
              "      <td>12289</td>\n",
              "      <td>ねごと Official Channel</td>\n",
              "      <td>10</td>\n",
              "      <td>ねごと|ネゴト|メルシールー|Re:myend|リマインド|Lightdentity|ライデ...</td>\n",
              "      <td>2885</td>\n",
              "      <td>50</td>\n",
              "      <td>111</td>\n",
              "      <td>False</td>\n",
              "      <td>False</td>\n",
              "      <td>http://www.negoto.com/全員平成生まれ、蒼山幸子（Vo＆Key)、沙田瑞...</td>\n",
              "      <td>7.109256e+06</td>\n",
              "      <td>1.302070e+09</td>\n",
              "      <td>6.0</td>\n",
              "      <td>4.440962e+07</td>\n",
              "      <td>29644.2</td>\n",
              "      <td>119623.50</td>\n",
              "      <td>560720.0</td>\n",
              "      <td>2306314.75</td>\n",
              "      <td>8221974.9</td>\n",
              "      <td>2012</td>\n",
              "      <td>7</td>\n",
              "      <td>23</td>\n",
              "      <td>3</td>\n",
              "      <td>0</td>\n",
              "      <td>2020</td>\n",
              "      <td>2</td>\n",
              "      <td>8</td>\n",
              "      <td>2935</td>\n",
              "      <td>325785</td>\n",
              "      <td>3.931826</td>\n",
              "      <td>4.718499</td>\n",
              "      <td>53.712196</td>\n",
              "      <td>56.568627</td>\n",
              "      <td>0.038462</td>\n",
              "      <td>2.176471</td>\n",
              "      <td>0</td>\n",
              "      <td>0</td>\n",
              "      <td>0</td>\n",
              "      <td>5</td>\n",
              "      <td>19</td>\n",
              "      <td>129</td>\n",
              "      <td>True</td>\n",
              "      <td>35</td>\n",
              "      <td>1</td>\n",
              "      <td>261</td>\n",
              "      <td>18</td>\n",
              "      <td>38</td>\n",
              "      <td>54</td>\n",
              "    </tr>\n",
              "    <tr>\n",
              "      <th>2</th>\n",
              "      <td>VF3tb 闇よだれvsちび太 (SEGA)</td>\n",
              "      <td>3392</td>\n",
              "      <td>siropai</td>\n",
              "      <td>24</td>\n",
              "      <td>VF3|VF4|VF5|ちび太|闇よだれ|chibita|virtuafighter|seg...</td>\n",
              "      <td>133</td>\n",
              "      <td>17</td>\n",
              "      <td>14</td>\n",
              "      <td>False</td>\n",
              "      <td>False</td>\n",
              "      <td>Beat-tribe cup finalhttp://ameblo.jp/siropai/</td>\n",
              "      <td>2.154325e+06</td>\n",
              "      <td>2.271761e+08</td>\n",
              "      <td>3.0</td>\n",
              "      <td>7.964865e+06</td>\n",
              "      <td>17748.0</td>\n",
              "      <td>78524.00</td>\n",
              "      <td>358451.0</td>\n",
              "      <td>1416473.00</td>\n",
              "      <td>4313006.0</td>\n",
              "      <td>2007</td>\n",
              "      <td>7</td>\n",
              "      <td>26</td>\n",
              "      <td>13</td>\n",
              "      <td>54</td>\n",
              "      <td>2020</td>\n",
              "      <td>1</td>\n",
              "      <td>14</td>\n",
              "      <td>150</td>\n",
              "      <td>2100</td>\n",
              "      <td>2.890372</td>\n",
              "      <td>2.708050</td>\n",
              "      <td>11.532563</td>\n",
              "      <td>7.388889</td>\n",
              "      <td>0.104478</td>\n",
              "      <td>0.777778</td>\n",
              "      <td>0</td>\n",
              "      <td>0</td>\n",
              "      <td>0</td>\n",
              "      <td>1</td>\n",
              "      <td>9</td>\n",
              "      <td>52</td>\n",
              "      <td>False</td>\n",
              "      <td>22</td>\n",
              "      <td>1</td>\n",
              "      <td>45</td>\n",
              "      <td>11</td>\n",
              "      <td>33</td>\n",
              "      <td>36</td>\n",
              "    </tr>\n",
              "    <tr>\n",
              "      <th>3</th>\n",
              "      <td>free frosty weekend!</td>\n",
              "      <td>2243</td>\n",
              "      <td>Jones4Carrie</td>\n",
              "      <td>22</td>\n",
              "      <td>frosty</td>\n",
              "      <td>287</td>\n",
              "      <td>51</td>\n",
              "      <td>173</td>\n",
              "      <td>False</td>\n",
              "      <td>False</td>\n",
              "      <td>I look so bad  but look at me!</td>\n",
              "      <td>1.352693e+06</td>\n",
              "      <td>4.178697e+07</td>\n",
              "      <td>8.0</td>\n",
              "      <td>3.811351e+06</td>\n",
              "      <td>3979.8</td>\n",
              "      <td>38162.00</td>\n",
              "      <td>198158.0</td>\n",
              "      <td>942131.50</td>\n",
              "      <td>3289791.0</td>\n",
              "      <td>2005</td>\n",
              "      <td>5</td>\n",
              "      <td>15</td>\n",
              "      <td>2</td>\n",
              "      <td>38</td>\n",
              "      <td>2019</td>\n",
              "      <td>12</td>\n",
              "      <td>22</td>\n",
              "      <td>338</td>\n",
              "      <td>58474</td>\n",
              "      <td>3.951244</td>\n",
              "      <td>5.159055</td>\n",
              "      <td>16.941074</td>\n",
              "      <td>5.519231</td>\n",
              "      <td>0.600694</td>\n",
              "      <td>3.326923</td>\n",
              "      <td>0</td>\n",
              "      <td>0</td>\n",
              "      <td>0</td>\n",
              "      <td>10</td>\n",
              "      <td>1</td>\n",
              "      <td>6</td>\n",
              "      <td>False</td>\n",
              "      <td>20</td>\n",
              "      <td>0</td>\n",
              "      <td>30</td>\n",
              "      <td>17</td>\n",
              "      <td>6</td>\n",
              "      <td>21</td>\n",
              "    </tr>\n",
              "  </tbody>\n",
              "</table>\n",
              "</div>"
            ],
            "text/plain": [
              "                                        title  ...  conEn_description\n",
              "0  [12] BGM Inazuma Eleven 3 - ~ライオコツト ダンジョン~  ...                 38\n",
              "1         ねごと - メルシールー [Official Music Video]  ...                 54\n",
              "2                      VF3tb 闇よだれvsちび太 (SEGA)  ...                 36\n",
              "3                        free frosty weekend!  ...                 21\n",
              "\n",
              "[4 rows x 49 columns]"
            ]
          },
          "metadata": {
            "tags": []
          },
          "execution_count": 117
        }
      ]
    },
    {
      "cell_type": "code",
      "metadata": {
        "id": "o-NWYw2ec0C_",
        "colab_type": "code",
        "colab": {}
      },
      "source": [
        "# 言語処理はあとで行う\n",
        "df = df.drop([\"title\",\"channelTitle\",\"tags\",\"description\"], axis=1)"
      ],
      "execution_count": 118,
      "outputs": []
    },
    {
      "cell_type": "code",
      "metadata": {
        "id": "Gy5DTV0Xc0DD",
        "colab_type": "code",
        "colab": {
          "base_uri": "https://localhost:8080/",
          "height": 131
        },
        "outputId": "e9e8cf4e-7f5d-4a0a-a811-03ad27bf8b17"
      },
      "source": [
        "df.head(2)"
      ],
      "execution_count": 119,
      "outputs": [
        {
          "output_type": "execute_result",
          "data": {
            "text/html": [
              "<div>\n",
              "<style scoped>\n",
              "    .dataframe tbody tr th:only-of-type {\n",
              "        vertical-align: middle;\n",
              "    }\n",
              "\n",
              "    .dataframe tbody tr th {\n",
              "        vertical-align: top;\n",
              "    }\n",
              "\n",
              "    .dataframe thead th {\n",
              "        text-align: right;\n",
              "    }\n",
              "</style>\n",
              "<table border=\"1\" class=\"dataframe\">\n",
              "  <thead>\n",
              "    <tr style=\"text-align: right;\">\n",
              "      <th></th>\n",
              "      <th>channelId</th>\n",
              "      <th>categoryId</th>\n",
              "      <th>likes</th>\n",
              "      <th>dislikes</th>\n",
              "      <th>comment_count</th>\n",
              "      <th>comments_disabled</th>\n",
              "      <th>ratings_disabled</th>\n",
              "      <th>category_mean</th>\n",
              "      <th>category_max</th>\n",
              "      <th>category_min</th>\n",
              "      <th>category_std</th>\n",
              "      <th>category_q1</th>\n",
              "      <th>category_q25</th>\n",
              "      <th>category_q5</th>\n",
              "      <th>category_q75</th>\n",
              "      <th>category_q9</th>\n",
              "      <th>year</th>\n",
              "      <th>month</th>\n",
              "      <th>day</th>\n",
              "      <th>hour</th>\n",
              "      <th>minute</th>\n",
              "      <th>c_year</th>\n",
              "      <th>c_month</th>\n",
              "      <th>c_day</th>\n",
              "      <th>evaluation</th>\n",
              "      <th>eval_by_comment</th>\n",
              "      <th>logdislikes</th>\n",
              "      <th>logcomment_count</th>\n",
              "      <th>sqrtlikes</th>\n",
              "      <th>like_dislike_ratio</th>\n",
              "      <th>comments_like_ratio</th>\n",
              "      <th>comments_dislike_ratio</th>\n",
              "      <th>likes_com</th>\n",
              "      <th>dislikes_com</th>\n",
              "      <th>comments_likes</th>\n",
              "      <th>channelTItle_count</th>\n",
              "      <th>num_tags</th>\n",
              "      <th>length_tags</th>\n",
              "      <th>official</th>\n",
              "      <th>title_length</th>\n",
              "      <th>ishttp_in_dis</th>\n",
              "      <th>len_description</th>\n",
              "      <th>conEn_title</th>\n",
              "      <th>conEn_tags</th>\n",
              "      <th>conEn_description</th>\n",
              "    </tr>\n",
              "  </thead>\n",
              "  <tbody>\n",
              "    <tr>\n",
              "      <th>0</th>\n",
              "      <td>7498</td>\n",
              "      <td>20</td>\n",
              "      <td>114</td>\n",
              "      <td>0</td>\n",
              "      <td>7</td>\n",
              "      <td>False</td>\n",
              "      <td>False</td>\n",
              "      <td>1.110494e+06</td>\n",
              "      <td>1.953992e+07</td>\n",
              "      <td>48.0</td>\n",
              "      <td>2.052324e+06</td>\n",
              "      <td>30670.4</td>\n",
              "      <td>121542.25</td>\n",
              "      <td>433934.5</td>\n",
              "      <td>1162340.25</td>\n",
              "      <td>2603043.6</td>\n",
              "      <td>2011</td>\n",
              "      <td>1</td>\n",
              "      <td>9</td>\n",
              "      <td>5</td>\n",
              "      <td>50</td>\n",
              "      <td>2020</td>\n",
              "      <td>2</td>\n",
              "      <td>1</td>\n",
              "      <td>114</td>\n",
              "      <td>798</td>\n",
              "      <td>0.000000</td>\n",
              "      <td>2.079442</td>\n",
              "      <td>10.677078</td>\n",
              "      <td>114.000000</td>\n",
              "      <td>0.060870</td>\n",
              "      <td>7.000000</td>\n",
              "      <td>0</td>\n",
              "      <td>0</td>\n",
              "      <td>0</td>\n",
              "      <td>1</td>\n",
              "      <td>48</td>\n",
              "      <td>315</td>\n",
              "      <td>False</td>\n",
              "      <td>42</td>\n",
              "      <td>0</td>\n",
              "      <td>61</td>\n",
              "      <td>19</td>\n",
              "      <td>258</td>\n",
              "      <td>38</td>\n",
              "    </tr>\n",
              "    <tr>\n",
              "      <th>1</th>\n",
              "      <td>12289</td>\n",
              "      <td>10</td>\n",
              "      <td>2885</td>\n",
              "      <td>50</td>\n",
              "      <td>111</td>\n",
              "      <td>False</td>\n",
              "      <td>False</td>\n",
              "      <td>7.109256e+06</td>\n",
              "      <td>1.302070e+09</td>\n",
              "      <td>6.0</td>\n",
              "      <td>4.440962e+07</td>\n",
              "      <td>29644.2</td>\n",
              "      <td>119623.50</td>\n",
              "      <td>560720.0</td>\n",
              "      <td>2306314.75</td>\n",
              "      <td>8221974.9</td>\n",
              "      <td>2012</td>\n",
              "      <td>7</td>\n",
              "      <td>23</td>\n",
              "      <td>3</td>\n",
              "      <td>0</td>\n",
              "      <td>2020</td>\n",
              "      <td>2</td>\n",
              "      <td>8</td>\n",
              "      <td>2935</td>\n",
              "      <td>325785</td>\n",
              "      <td>3.931826</td>\n",
              "      <td>4.718499</td>\n",
              "      <td>53.712196</td>\n",
              "      <td>56.568627</td>\n",
              "      <td>0.038462</td>\n",
              "      <td>2.176471</td>\n",
              "      <td>0</td>\n",
              "      <td>0</td>\n",
              "      <td>0</td>\n",
              "      <td>5</td>\n",
              "      <td>19</td>\n",
              "      <td>129</td>\n",
              "      <td>True</td>\n",
              "      <td>35</td>\n",
              "      <td>1</td>\n",
              "      <td>261</td>\n",
              "      <td>18</td>\n",
              "      <td>38</td>\n",
              "      <td>54</td>\n",
              "    </tr>\n",
              "  </tbody>\n",
              "</table>\n",
              "</div>"
            ],
            "text/plain": [
              "   channelId  categoryId  likes  ...  conEn_title  conEn_tags  conEn_description\n",
              "0       7498          20    114  ...           19         258                 38\n",
              "1      12289          10   2885  ...           18          38                 54\n",
              "\n",
              "[2 rows x 45 columns]"
            ]
          },
          "metadata": {
            "tags": []
          },
          "execution_count": 119
        }
      ]
    },
    {
      "cell_type": "code",
      "metadata": {
        "id": "5u37O4j2c0DH",
        "colab_type": "code",
        "colab": {
          "base_uri": "https://localhost:8080/",
          "height": 901
        },
        "outputId": "55e43ac6-e7fa-4190-ccca-fe7c71860b55"
      },
      "source": [
        "df.info()"
      ],
      "execution_count": 120,
      "outputs": [
        {
          "output_type": "stream",
          "text": [
            "<class 'pandas.core.frame.DataFrame'>\n",
            "Int64Index: 49302 entries, 0 to 49301\n",
            "Data columns (total 45 columns):\n",
            " #   Column                  Non-Null Count  Dtype  \n",
            "---  ------                  --------------  -----  \n",
            " 0   channelId               49302 non-null  int64  \n",
            " 1   categoryId              49302 non-null  int64  \n",
            " 2   likes                   49302 non-null  int64  \n",
            " 3   dislikes                49302 non-null  int64  \n",
            " 4   comment_count           49302 non-null  int64  \n",
            " 5   comments_disabled       49302 non-null  bool   \n",
            " 6   ratings_disabled        49302 non-null  bool   \n",
            " 7   category_mean           49293 non-null  float64\n",
            " 8   category_max            49293 non-null  float64\n",
            " 9   category_min            49293 non-null  float64\n",
            " 10  category_std            49293 non-null  float64\n",
            " 11  category_q1             49293 non-null  float64\n",
            " 12  category_q25            49293 non-null  float64\n",
            " 13  category_q5             49293 non-null  float64\n",
            " 14  category_q75            49293 non-null  float64\n",
            " 15  category_q9             49293 non-null  float64\n",
            " 16  year                    49302 non-null  int64  \n",
            " 17  month                   49302 non-null  int64  \n",
            " 18  day                     49302 non-null  int64  \n",
            " 19  hour                    49302 non-null  int64  \n",
            " 20  minute                  49302 non-null  int64  \n",
            " 21  c_year                  49302 non-null  int64  \n",
            " 22  c_month                 49302 non-null  int64  \n",
            " 23  c_day                   49302 non-null  int64  \n",
            " 24  evaluation              49302 non-null  int64  \n",
            " 25  eval_by_comment         49302 non-null  int64  \n",
            " 26  logdislikes             49302 non-null  float64\n",
            " 27  logcomment_count        49302 non-null  float64\n",
            " 28  sqrtlikes               49302 non-null  float64\n",
            " 29  like_dislike_ratio      49302 non-null  float64\n",
            " 30  comments_like_ratio     49302 non-null  float64\n",
            " 31  comments_dislike_ratio  49302 non-null  float64\n",
            " 32  likes_com               49302 non-null  int64  \n",
            " 33  dislikes_com            49302 non-null  int64  \n",
            " 34  comments_likes          49302 non-null  int64  \n",
            " 35  channelTItle_count      49302 non-null  int64  \n",
            " 36  num_tags                49302 non-null  int64  \n",
            " 37  length_tags             49302 non-null  int64  \n",
            " 38  official                49302 non-null  bool   \n",
            " 39  title_length            49302 non-null  int64  \n",
            " 40  ishttp_in_dis           49302 non-null  int64  \n",
            " 41  len_description         49302 non-null  int64  \n",
            " 42  conEn_title             49302 non-null  int64  \n",
            " 43  conEn_tags              49302 non-null  int64  \n",
            " 44  conEn_description       49302 non-null  int64  \n",
            "dtypes: bool(3), float64(15), int64(27)\n",
            "memory usage: 16.3 MB\n"
          ],
          "name": "stdout"
        }
      ]
    },
    {
      "cell_type": "code",
      "metadata": {
        "id": "zpX1Dbwec0DL",
        "colab_type": "code",
        "colab": {}
      },
      "source": [
        "# データの分割\n",
        "train = df.iloc[:len(train_y), :]\n",
        "test = df.iloc[len(train_y):, :]"
      ],
      "execution_count": 121,
      "outputs": []
    },
    {
      "cell_type": "code",
      "metadata": {
        "id": "ZCqNEos_c0DP",
        "colab_type": "code",
        "colab": {}
      },
      "source": [
        "# kfold\n",
        "cv = KFold(n_splits=5, shuffle=True, random_state=2020)\n",
        "params = {\n",
        "    'boosting_type': 'gbdt',\n",
        "    'metric': 'rmse',\n",
        "    'objective': 'regression',\n",
        "    'seed': 20,\n",
        "    'learning_rate': 0.01,\n",
        "    \"n_jobs\": -1,\n",
        "    \"verbose\": -1,\n",
        "    # \"max_depth\":4,\n",
        "    # \"max_bin\": 128,\n",
        "    # \"bagging_fraction\":0.5,\n",
        "    # \"lambda_l1\":0.1,\n",
        "    # \"lambda_l2\":0.04\n",
        "    # \"subsample\":0.7, \n",
        "    # \"colsample_bytree\":0.7\n",
        "}\n",
        "# params = {'task': 'train',\n",
        "#         'boosting_type': 'gbdt',\n",
        "#         'objective': 'regression',\n",
        "#         'metric': 'rmse',\n",
        "#         'verbosity': -1,\n",
        "#         \"seed\":42,\n",
        "#         'learning_rate': 0.01,}\n",
        "# best_params =  {'lambda_l1': 0.019918875912078603,\n",
        "#                 'lambda_l2': 0.002616688073257713,\n",
        "#                 'num_leaves': 219, \n",
        "#                 'feature_fraction': 0.6641013611124621,\n",
        "#                 'bagging_fraction': 0.7024199018549259,\n",
        "#                 'bagging_freq': 5, \n",
        "#                 'min_child_samples': 5}\n",
        "\n",
        "# params.update(best_params)"
      ],
      "execution_count": 122,
      "outputs": []
    },
    {
      "cell_type": "code",
      "metadata": {
        "id": "ZWxKu9fCefOH",
        "colab_type": "code",
        "colab": {}
      },
      "source": [
        "y = np.log(train_y)\n",
        "pred =0\n",
        "score = 0\n",
        "c =0 "
      ],
      "execution_count": 123,
      "outputs": []
    },
    {
      "cell_type": "markdown",
      "metadata": {
        "id": "hVi2EX84c0DW",
        "colab_type": "text"
      },
      "source": [
        "###  training(lgb)"
      ]
    },
    {
      "cell_type": "code",
      "metadata": {
        "id": "uPJM5-Mjc0DW",
        "colab_type": "code",
        "colab": {
          "base_uri": "https://localhost:8080/",
          "height": 1000
        },
        "outputId": "9719c862-636c-494e-9f4e-568ba6d4a490"
      },
      "source": [
        "for tr_idx, val_idx in cv.split(train):\n",
        "    x_train, x_val = train.iloc[tr_idx], train.iloc[val_idx]\n",
        "    y_train, y_val = y[tr_idx], y[val_idx]\n",
        "    \n",
        "    # Datasetに入れて学習させる\n",
        "    train_set = lgb.Dataset(x_train, y_train)\n",
        "    val_set = lgb.Dataset(x_val, y_val, reference=train_set)\n",
        "        \n",
        "    # Training\n",
        "    model = lgb.train(params, train_set, num_boost_round=30000, early_stopping_rounds=1000, \n",
        "                      valid_sets=[train_set, val_set], verbose_eval=500)\n",
        "    \n",
        "    # 予測したらexpで元に戻す\n",
        "    test_pred = np.exp(model.predict(test))\n",
        "    # 0より小さな値があるとエラーになるので補正\n",
        "    test_pred = np.where(test_pred < 0, 0, test_pred)\n",
        "    pred += test_pred / 5  #  5fold回すので\n",
        "\n",
        "    oof = np.exp(model.predict(x_val))\n",
        "    oof = np.where(oof < 0, 0, oof)\n",
        "    rmsle = np.sqrt(mean_squared_log_error(np.exp(y_val), oof))\n",
        "    c += 1\n",
        "    print(\"{}回目の思考\".format(c))\n",
        "    print(f\"RMSLE : {rmsle}\")\n",
        "    score += rmsle/ 5"
      ],
      "execution_count": 124,
      "outputs": [
        {
          "output_type": "stream",
          "text": [
            "Training until validation scores don't improve for 1000 rounds.\n",
            "[500]\ttraining's rmse: 0.725496\tvalid_1's rmse: 0.822978\n",
            "[1000]\ttraining's rmse: 0.643876\tvalid_1's rmse: 0.799541\n",
            "[1500]\ttraining's rmse: 0.592089\tvalid_1's rmse: 0.79314\n",
            "[2000]\ttraining's rmse: 0.551079\tvalid_1's rmse: 0.790146\n",
            "[2500]\ttraining's rmse: 0.514307\tvalid_1's rmse: 0.787748\n",
            "[3000]\ttraining's rmse: 0.482104\tvalid_1's rmse: 0.785966\n",
            "[3500]\ttraining's rmse: 0.453781\tvalid_1's rmse: 0.78443\n",
            "[4000]\ttraining's rmse: 0.428859\tvalid_1's rmse: 0.78349\n",
            "[4500]\ttraining's rmse: 0.405572\tvalid_1's rmse: 0.78348\n",
            "[5000]\ttraining's rmse: 0.38426\tvalid_1's rmse: 0.78307\n",
            "[5500]\ttraining's rmse: 0.366148\tvalid_1's rmse: 0.783026\n",
            "[6000]\ttraining's rmse: 0.348504\tvalid_1's rmse: 0.782885\n",
            "[6500]\ttraining's rmse: 0.331273\tvalid_1's rmse: 0.783345\n",
            "Early stopping, best iteration is:\n",
            "[5999]\ttraining's rmse: 0.348525\tvalid_1's rmse: 0.782884\n",
            "1回目の思考\n",
            "RMSLE : 0.7821034925506275\n",
            "Training until validation scores don't improve for 1000 rounds.\n",
            "[500]\ttraining's rmse: 0.721482\tvalid_1's rmse: 0.832532\n",
            "[1000]\ttraining's rmse: 0.641291\tvalid_1's rmse: 0.816934\n",
            "[1500]\ttraining's rmse: 0.589851\tvalid_1's rmse: 0.811104\n",
            "[2000]\ttraining's rmse: 0.547421\tvalid_1's rmse: 0.807475\n",
            "[2500]\ttraining's rmse: 0.508363\tvalid_1's rmse: 0.803612\n",
            "[3000]\ttraining's rmse: 0.473276\tvalid_1's rmse: 0.803211\n",
            "[3500]\ttraining's rmse: 0.442331\tvalid_1's rmse: 0.802746\n",
            "[4000]\ttraining's rmse: 0.416905\tvalid_1's rmse: 0.801658\n",
            "[4500]\ttraining's rmse: 0.39418\tvalid_1's rmse: 0.80158\n",
            "[5000]\ttraining's rmse: 0.373\tvalid_1's rmse: 0.801795\n",
            "Early stopping, best iteration is:\n",
            "[4378]\ttraining's rmse: 0.399764\tvalid_1's rmse: 0.801342\n",
            "2回目の思考\n",
            "RMSLE : 0.8010641943762637\n",
            "Training until validation scores don't improve for 1000 rounds.\n",
            "[500]\ttraining's rmse: 0.726013\tvalid_1's rmse: 0.826908\n",
            "[1000]\ttraining's rmse: 0.642602\tvalid_1's rmse: 0.800986\n",
            "[1500]\ttraining's rmse: 0.589058\tvalid_1's rmse: 0.791474\n",
            "[2000]\ttraining's rmse: 0.548319\tvalid_1's rmse: 0.785379\n",
            "[2500]\ttraining's rmse: 0.512883\tvalid_1's rmse: 0.781808\n",
            "[3000]\ttraining's rmse: 0.480192\tvalid_1's rmse: 0.780711\n",
            "[3500]\ttraining's rmse: 0.453179\tvalid_1's rmse: 0.780116\n",
            "[4000]\ttraining's rmse: 0.426743\tvalid_1's rmse: 0.778601\n",
            "[4500]\ttraining's rmse: 0.402996\tvalid_1's rmse: 0.776717\n",
            "[5000]\ttraining's rmse: 0.381521\tvalid_1's rmse: 0.775607\n",
            "[5500]\ttraining's rmse: 0.361898\tvalid_1's rmse: 0.775249\n",
            "[6000]\ttraining's rmse: 0.343262\tvalid_1's rmse: 0.774463\n",
            "[6500]\ttraining's rmse: 0.325652\tvalid_1's rmse: 0.774099\n",
            "[7000]\ttraining's rmse: 0.308984\tvalid_1's rmse: 0.774427\n",
            "[7500]\ttraining's rmse: 0.294534\tvalid_1's rmse: 0.774298\n",
            "Early stopping, best iteration is:\n",
            "[6655]\ttraining's rmse: 0.320271\tvalid_1's rmse: 0.774027\n",
            "3回目の思考\n",
            "RMSLE : 0.7730841172566129\n",
            "Training until validation scores don't improve for 1000 rounds.\n",
            "[500]\ttraining's rmse: 0.730985\tvalid_1's rmse: 0.815695\n",
            "[1000]\ttraining's rmse: 0.646628\tvalid_1's rmse: 0.792348\n",
            "[1500]\ttraining's rmse: 0.590982\tvalid_1's rmse: 0.785429\n",
            "[2000]\ttraining's rmse: 0.54745\tvalid_1's rmse: 0.782623\n",
            "[2500]\ttraining's rmse: 0.509258\tvalid_1's rmse: 0.7807\n",
            "[3000]\ttraining's rmse: 0.477621\tvalid_1's rmse: 0.779691\n",
            "[3500]\ttraining's rmse: 0.448248\tvalid_1's rmse: 0.780753\n",
            "Early stopping, best iteration is:\n",
            "[2991]\ttraining's rmse: 0.478168\tvalid_1's rmse: 0.779595\n",
            "4回目の思考\n",
            "RMSLE : 0.7790914858062055\n",
            "Training until validation scores don't improve for 1000 rounds.\n",
            "[500]\ttraining's rmse: 0.730044\tvalid_1's rmse: 0.814958\n",
            "[1000]\ttraining's rmse: 0.643891\tvalid_1's rmse: 0.792837\n",
            "[1500]\ttraining's rmse: 0.591548\tvalid_1's rmse: 0.785188\n",
            "[2000]\ttraining's rmse: 0.549293\tvalid_1's rmse: 0.782364\n",
            "[2500]\ttraining's rmse: 0.517292\tvalid_1's rmse: 0.781763\n",
            "[3000]\ttraining's rmse: 0.484636\tvalid_1's rmse: 0.780254\n",
            "[3500]\ttraining's rmse: 0.454968\tvalid_1's rmse: 0.778836\n",
            "[4000]\ttraining's rmse: 0.429047\tvalid_1's rmse: 0.778193\n",
            "[4500]\ttraining's rmse: 0.405126\tvalid_1's rmse: 0.777843\n",
            "[5000]\ttraining's rmse: 0.384621\tvalid_1's rmse: 0.778231\n",
            "Early stopping, best iteration is:\n",
            "[4240]\ttraining's rmse: 0.417144\tvalid_1's rmse: 0.777738\n",
            "5回目の思考\n",
            "RMSLE : 0.7773906014949741\n"
          ],
          "name": "stdout"
        }
      ]
    },
    {
      "cell_type": "markdown",
      "metadata": {
        "id": "u1kGfLIPTlKi",
        "colab_type": "text"
      },
      "source": [
        "###  training(xgb)"
      ]
    },
    {
      "cell_type": "code",
      "metadata": {
        "id": "TmmqaeQaqd1R",
        "colab_type": "code",
        "colab": {}
      },
      "source": [
        "# xgb_pram = {\n",
        "    \n",
        "# }"
      ],
      "execution_count": null,
      "outputs": []
    },
    {
      "cell_type": "code",
      "metadata": {
        "id": "-LaB-dV2TzFe",
        "colab_type": "code",
        "colab": {}
      },
      "source": [
        "# gscv = xgb.XGBRegressor(n_estimators=50000, learning_rate=0.01, max_depth=6, subsample=0.7, colsample_bytree=0.7)\n",
        "# for tr_idx, val_idx in cv.split(train):\n",
        "#     x_train, x_val = train.iloc[tr_idx], train.iloc[val_idx]\n",
        "#     y_train, y_val = y[tr_idx], y[val_idx]\n",
        "    \n",
        "#     gscv.fit(x_train, y_train)\n",
        "#     # 予測したらexpで元に戻す\n",
        "#     test_pred = np.exp(gscv.predict(test))\n",
        "#     # 0より小さな値があるとエラーになるので補正\n",
        "#     test_pred = np.where(test_pred < 0, 0, test_pred)\n",
        "#     pred += test_pred / 5  #  5fold回すので\n",
        "\n",
        "#     oof = np.exp(gscv.predict(x_val))\n",
        "#     oof = np.where(oof < 0, 0, oof)\n",
        "#     rmsle = np.sqrt(mean_squared_log_error(np.exp(y_val), oof))\n",
        "#     print(f\"RMSLE : {rmsle}\")\n",
        "#     score += rmsle/ 5\n"
      ],
      "execution_count": null,
      "outputs": []
    },
    {
      "cell_type": "markdown",
      "metadata": {
        "id": "dD7f7KZCs6Qa",
        "colab_type": "text"
      },
      "source": [
        "## eval"
      ]
    },
    {
      "cell_type": "code",
      "metadata": {
        "id": "6EIcJ4zcc0Db",
        "colab_type": "code",
        "colab": {
          "base_uri": "https://localhost:8080/",
          "height": 312
        },
        "outputId": "844987ed-2fbb-4e97-e8e5-ad3bafe6c613"
      },
      "source": [
        "lgb.plot_importance(model, importance_type=\"gain\", max_num_features=15)"
      ],
      "execution_count": 125,
      "outputs": [
        {
          "output_type": "execute_result",
          "data": {
            "text/plain": [
              "<matplotlib.axes._subplots.AxesSubplot at 0x7fa30b06dd30>"
            ]
          },
          "metadata": {
            "tags": []
          },
          "execution_count": 125
        },
        {
          "output_type": "display_data",
          "data": {
            "image/png": "[encoded data removed]",
            "text/plain": [
              "<Figure size 432x288 with 1 Axes>"
            ]
          },
          "metadata": {
            "tags": [],
            "needs_background": "light"
          }
        }
      ]
    },
    {
      "cell_type": "code",
      "metadata": {
        "id": "6HzmshOUc0Dd",
        "colab_type": "code",
        "colab": {
          "base_uri": "https://localhost:8080/",
          "height": 34
        },
        "outputId": "8a1d92ee-0085-407a-a359-96fcc8f5e1b3"
      },
      "source": [
        "print(f\"Mean RMSLE SCORE :{score}\")"
      ],
      "execution_count": 126,
      "outputs": [
        {
          "output_type": "stream",
          "text": [
            "Mean RMSLE SCORE :0.7825467782969366\n"
          ],
          "name": "stdout"
        }
      ]
    },
    {
      "cell_type": "code",
      "metadata": {
        "id": "1eV4Rxo7c0Di",
        "colab_type": "code",
        "colab": {}
      },
      "source": [
        "submit_df = pd.DataFrame({\"y\": pred})\n",
        "submit_df.index.name = \"id\"\n",
        "submit_df.to_csv(\"submit.csv\")"
      ],
      "execution_count": 127,
      "outputs": []
    },
    {
      "cell_type": "code",
      "metadata": {
        "id": "7FVq_ozWhfRa",
        "colab_type": "code",
        "colab": {}
      },
      "source": [
        "from google.colab import files\n",
        "files.download('submit.csv')"
      ],
      "execution_count": 128,
      "outputs": []
    },
    {
      "cell_type": "code",
      "metadata": {
        "id": "3CH9VOYOePfP",
        "colab_type": "code",
        "colab": {}
      },
      "source": [
        ""
      ],
      "execution_count": null,
      "outputs": []
    },
    {
      "cell_type": "markdown",
      "metadata": {
        "id": "JCm_R_FljYTg",
        "colab_type": "text"
      },
      "source": [
        "nlp"
      ]
    },
    {
      "cell_type": "code",
      "metadata": {
        "id": "ecuFPb4PjcyY",
        "colab_type": "code",
        "colab": {}
      },
      "source": [
        "nlp_df = train_df['description']"
      ],
      "execution_count": 19,
      "outputs": []
    },
    {
      "cell_type": "code",
      "metadata": {
        "id": "PvN1iuEqjitX",
        "colab_type": "code",
        "colab": {}
      },
      "source": [
        ""
      ],
      "execution_count": 20,
      "outputs": []
    },
    {
      "cell_type": "code",
      "metadata": {
        "id": "ms80vF1Mjk6d",
        "colab_type": "code",
        "colab": {}
      },
      "source": [
        ""
      ],
      "execution_count": null,
      "outputs": []
    }
  ]
}