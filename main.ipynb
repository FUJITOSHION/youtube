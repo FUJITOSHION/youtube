{
  "nbformat": 4,
  "nbformat_minor": 0,
  "metadata": {
    "jupytext": {
      "text_representation": {
        "extension": ".py",
        "format_name": "light",
        "format_version": "1.5",
        "jupytext_version": "1.5.0"
      }
    },
    "kernelspec": {
      "display_name": "Python 3",
      "language": "python",
      "name": "python3"
    },
    "language_info": {
      "codemirror_mode": {
        "name": "ipython",
        "version": 3
      },
      "file_extension": ".py",
      "mimetype": "text/x-python",
      "name": "python",
      "nbconvert_exporter": "python",
      "pygments_lexer": "ipython3",
      "version": "3.7.6"
    },
    "colab": {
      "name": "main.ipynb",
      "provenance": [],
      "toc_visible": true
    }
  },
  "cells": [
    {
      "cell_type": "code",
      "metadata": {
        "id": "SiSvlJ-XdVa1",
        "colab_type": "code",
        "colab": {
          "base_uri": "https://localhost:8080/",
          "height": 122
        },
        "outputId": "66735ec4-e515-4d58-f346-e43c12208aa2"
      },
      "source": [
        "from google.colab import drive\n",
        "drive.mount('/content/drive')"
      ],
      "execution_count": 1,
      "outputs": [
        {
          "output_type": "stream",
          "text": [
            "Go to this URL in a browser: https://accounts.google.com/o/oauth2/auth?client_id=947318989803-6bn6qk8qdgf4n4g3pfee6491hc0brc4i.apps.googleusercontent.com&redirect_uri=urn%3aietf%3awg%3aoauth%3a2.0%3aoob&response_type=code&scope=email%20https%3a%2f%2fwww.googleapis.com%2fauth%2fdocs.test%20https%3a%2f%2fwww.googleapis.com%2fauth%2fdrive%20https%3a%2f%2fwww.googleapis.com%2fauth%2fdrive.photos.readonly%20https%3a%2f%2fwww.googleapis.com%2fauth%2fpeopleapi.readonly\n",
            "\n",
            "Enter your authorization code:\n",
            "··········\n",
            "Mounted at /content/drive\n"
          ],
          "name": "stdout"
        }
      ]
    },
    {
      "cell_type": "code",
      "metadata": {
        "id": "VGcDUI5Bc0CU",
        "colab_type": "code",
        "colab": {}
      },
      "source": [
        "import pandas as pd\n",
        "import numpy as np\n",
        "import gc\n",
        "from sklearn.model_selection import KFold\n",
        "from sklearn.metrics import mean_squared_log_error\n",
        "import lightgbm as lgb\n",
        "from matplotlib_venn import venn2\n",
        "from matplotlib import pyplot\n",
        "from sklearn.preprocessing import LabelEncoder"
      ],
      "execution_count": 18,
      "outputs": []
    },
    {
      "cell_type": "code",
      "metadata": {
        "id": "rVu5VpFWc0Cb",
        "colab_type": "code",
        "colab": {}
      },
      "source": [
        "train_df = pd.read_csv('/content/drive/My Drive/youtube_compe/data/train_data.csv')\n",
        "test_df = pd.read_csv('/content/drive/My Drive/youtube_compe/data/test_data.csv')"
      ],
      "execution_count": 3,
      "outputs": []
    },
    {
      "cell_type": "code",
      "metadata": {
        "id": "VFKpESahc0Ch",
        "colab_type": "code",
        "colab": {}
      },
      "source": [
        "train_y = train_df['y']\n",
        "del train_df[\"y\"]"
      ],
      "execution_count": 4,
      "outputs": []
    },
    {
      "cell_type": "code",
      "metadata": {
        "id": "lhfYPxVoc0Cm",
        "colab_type": "code",
        "colab": {}
      },
      "source": [
        "df = pd.concat([train_df, test_df])"
      ],
      "execution_count": 5,
      "outputs": []
    },
    {
      "cell_type": "markdown",
      "metadata": {
        "id": "m1KvkIxWc0Cp",
        "colab_type": "text"
      },
      "source": [
        "### preprocessing"
      ]
    },
    {
      "cell_type": "code",
      "metadata": {
        "id": "r88X4-GWc0Cq",
        "colab_type": "code",
        "colab": {}
      },
      "source": [
        "# channelId\n",
        "le_channelId = LabelEncoder()\n",
        "df['channelId'] = le_channelId.fit_transform(df['channelId'])"
      ],
      "execution_count": 6,
      "outputs": []
    },
    {
      "cell_type": "code",
      "metadata": {
        "id": "r8M0HDIuc0Ct",
        "colab_type": "code",
        "colab": {}
      },
      "source": [
        "# drop id , video_id  and thumbnail_link\n",
        "del df['id']\n",
        "del df['video_id']\n",
        "del df['thumbnail_link']"
      ],
      "execution_count": 7,
      "outputs": []
    },
    {
      "cell_type": "code",
      "metadata": {
        "id": "qDqtcLMvc0Cx",
        "colab_type": "code",
        "colab": {}
      },
      "source": [
        "# publishedAt\n",
        "df[\"publishedAt\"] = pd.to_datetime(df[\"publishedAt\"])\n",
        "df[\"year\"] = df[\"publishedAt\"].dt.year\n",
        "df[\"month\"] = df[\"publishedAt\"].dt.month\n",
        "df[\"day\"] = df[\"publishedAt\"].dt.day\n",
        "df[\"hour\"] = df[\"publishedAt\"].dt.hour\n",
        "df[\"minute\"] = df[\"publishedAt\"].dt.minute\n",
        "del df[\"publishedAt\"]"
      ],
      "execution_count": 8,
      "outputs": []
    },
    {
      "cell_type": "code",
      "metadata": {
        "id": "0jnstc-Hc0C2",
        "colab_type": "code",
        "colab": {}
      },
      "source": [
        "# collection_date\n",
        "df[\"collection_date\"] = \"20\" + df[\"collection_date\"]\n",
        "df[\"collection_date\"] = pd.to_datetime(df[\"collection_date\"], format=\"%Y.%d.%m\")\n",
        "df[\"c_year\"] = df[\"collection_date\"].dt.year\n",
        "df[\"c_month\"] = df[\"collection_date\"].dt.month\n",
        "df[\"c_day\"] = df[\"collection_date\"].dt.day\n",
        "del df[\"collection_date\"]"
      ],
      "execution_count": 9,
      "outputs": []
    },
    {
      "cell_type": "code",
      "metadata": {
        "id": "f1ImgOlCc0C7",
        "colab_type": "code",
        "colab": {}
      },
      "source": [
        "# evaluation\n",
        "df['evaluation'] = df['likes'] + df['dislikes']"
      ],
      "execution_count": 10,
      "outputs": []
    },
    {
      "cell_type": "code",
      "metadata": {
        "id": "o-NWYw2ec0C_",
        "colab_type": "code",
        "colab": {}
      },
      "source": [
        "# 言語処理はあとで行う\n",
        "df = df.drop([\"title\",\"channelTitle\",\"tags\",\"description\"], axis=1)"
      ],
      "execution_count": 11,
      "outputs": []
    },
    {
      "cell_type": "code",
      "metadata": {
        "id": "Gy5DTV0Xc0DD",
        "colab_type": "code",
        "colab": {
          "base_uri": "https://localhost:8080/",
          "height": 131
        },
        "outputId": "88386976-964b-41cc-e12e-f682e41bdd6f"
      },
      "source": [
        "df.head(2)"
      ],
      "execution_count": 12,
      "outputs": [
        {
          "output_type": "execute_result",
          "data": {
            "text/html": [
              "<div>\n",
              "<style scoped>\n",
              "    .dataframe tbody tr th:only-of-type {\n",
              "        vertical-align: middle;\n",
              "    }\n",
              "\n",
              "    .dataframe tbody tr th {\n",
              "        vertical-align: top;\n",
              "    }\n",
              "\n",
              "    .dataframe thead th {\n",
              "        text-align: right;\n",
              "    }\n",
              "</style>\n",
              "<table border=\"1\" class=\"dataframe\">\n",
              "  <thead>\n",
              "    <tr style=\"text-align: right;\">\n",
              "      <th></th>\n",
              "      <th>channelId</th>\n",
              "      <th>categoryId</th>\n",
              "      <th>likes</th>\n",
              "      <th>dislikes</th>\n",
              "      <th>comment_count</th>\n",
              "      <th>comments_disabled</th>\n",
              "      <th>ratings_disabled</th>\n",
              "      <th>year</th>\n",
              "      <th>month</th>\n",
              "      <th>day</th>\n",
              "      <th>hour</th>\n",
              "      <th>minute</th>\n",
              "      <th>c_year</th>\n",
              "      <th>c_month</th>\n",
              "      <th>c_day</th>\n",
              "      <th>evaluation</th>\n",
              "    </tr>\n",
              "  </thead>\n",
              "  <tbody>\n",
              "    <tr>\n",
              "      <th>0</th>\n",
              "      <td>7498</td>\n",
              "      <td>20</td>\n",
              "      <td>114</td>\n",
              "      <td>0</td>\n",
              "      <td>7</td>\n",
              "      <td>False</td>\n",
              "      <td>False</td>\n",
              "      <td>2011</td>\n",
              "      <td>1</td>\n",
              "      <td>9</td>\n",
              "      <td>5</td>\n",
              "      <td>50</td>\n",
              "      <td>2020</td>\n",
              "      <td>2</td>\n",
              "      <td>1</td>\n",
              "      <td>114</td>\n",
              "    </tr>\n",
              "    <tr>\n",
              "      <th>1</th>\n",
              "      <td>12289</td>\n",
              "      <td>10</td>\n",
              "      <td>2885</td>\n",
              "      <td>50</td>\n",
              "      <td>111</td>\n",
              "      <td>False</td>\n",
              "      <td>False</td>\n",
              "      <td>2012</td>\n",
              "      <td>7</td>\n",
              "      <td>23</td>\n",
              "      <td>3</td>\n",
              "      <td>0</td>\n",
              "      <td>2020</td>\n",
              "      <td>2</td>\n",
              "      <td>8</td>\n",
              "      <td>2935</td>\n",
              "    </tr>\n",
              "  </tbody>\n",
              "</table>\n",
              "</div>"
            ],
            "text/plain": [
              "   channelId  categoryId  likes  dislikes  ...  c_year  c_month  c_day  evaluation\n",
              "0       7498          20    114         0  ...    2020        2      1         114\n",
              "1      12289          10   2885        50  ...    2020        2      8        2935\n",
              "\n",
              "[2 rows x 16 columns]"
            ]
          },
          "metadata": {
            "tags": []
          },
          "execution_count": 12
        }
      ]
    },
    {
      "cell_type": "code",
      "metadata": {
        "id": "5u37O4j2c0DH",
        "colab_type": "code",
        "colab": {
          "base_uri": "https://localhost:8080/",
          "height": 408
        },
        "outputId": "1f31e6b6-e3ea-4260-eae3-42260d98feb6"
      },
      "source": [
        "df.info()"
      ],
      "execution_count": 13,
      "outputs": [
        {
          "output_type": "stream",
          "text": [
            "<class 'pandas.core.frame.DataFrame'>\n",
            "Int64Index: 49302 entries, 0 to 29581\n",
            "Data columns (total 16 columns):\n",
            " #   Column             Non-Null Count  Dtype\n",
            "---  ------             --------------  -----\n",
            " 0   channelId          49302 non-null  int64\n",
            " 1   categoryId         49302 non-null  int64\n",
            " 2   likes              49302 non-null  int64\n",
            " 3   dislikes           49302 non-null  int64\n",
            " 4   comment_count      49302 non-null  int64\n",
            " 5   comments_disabled  49302 non-null  bool \n",
            " 6   ratings_disabled   49302 non-null  bool \n",
            " 7   year               49302 non-null  int64\n",
            " 8   month              49302 non-null  int64\n",
            " 9   day                49302 non-null  int64\n",
            " 10  hour               49302 non-null  int64\n",
            " 11  minute             49302 non-null  int64\n",
            " 12  c_year             49302 non-null  int64\n",
            " 13  c_month            49302 non-null  int64\n",
            " 14  c_day              49302 non-null  int64\n",
            " 15  evaluation         49302 non-null  int64\n",
            "dtypes: bool(2), int64(14)\n",
            "memory usage: 5.7 MB\n"
          ],
          "name": "stdout"
        }
      ]
    },
    {
      "cell_type": "code",
      "metadata": {
        "id": "zpX1Dbwec0DL",
        "colab_type": "code",
        "colab": {}
      },
      "source": [
        "# データの分割\n",
        "train = df.iloc[:len(train_y), :]\n",
        "test = df.iloc[len(train_y):, :]"
      ],
      "execution_count": 14,
      "outputs": []
    },
    {
      "cell_type": "code",
      "metadata": {
        "id": "ZCqNEos_c0DP",
        "colab_type": "code",
        "colab": {}
      },
      "source": [
        "# kfold\n",
        "cv = KFold(n_splits=5, shuffle=True, random_state=20)\n",
        "params = {\n",
        "    'boosting_type': 'gbdt',\n",
        "    'metric': 'rmse',\n",
        "    'objective': 'regression',\n",
        "    'seed': 20,\n",
        "    'learning_rate': 0.01,\n",
        "    \"n_jobs\": -1,\n",
        "    \"verbose\": -1\n",
        "}"
      ],
      "execution_count": 32,
      "outputs": []
    },
    {
      "cell_type": "code",
      "metadata": {
        "id": "rdiI8XYRc0DS",
        "colab_type": "code",
        "colab": {}
      },
      "source": [
        "y = np.log(train_y)"
      ],
      "execution_count": 33,
      "outputs": []
    },
    {
      "cell_type": "code",
      "metadata": {
        "id": "ZWxKu9fCefOH",
        "colab_type": "code",
        "colab": {}
      },
      "source": [
        "pred =0\n",
        "score = 0"
      ],
      "execution_count": 34,
      "outputs": []
    },
    {
      "cell_type": "markdown",
      "metadata": {
        "id": "hVi2EX84c0DW",
        "colab_type": "text"
      },
      "source": [
        "###  training"
      ]
    },
    {
      "cell_type": "code",
      "metadata": {
        "id": "uPJM5-Mjc0DW",
        "colab_type": "code",
        "colab": {
          "base_uri": "https://localhost:8080/",
          "height": 697
        },
        "outputId": "719a79ca-65b8-42ff-bc98-48c51d909585"
      },
      "source": [
        "for tr_idx, val_idx in cv.split(train):\n",
        "    x_train, x_val = train.iloc[tr_idx], train.iloc[val_idx]\n",
        "    y_train, y_val = y[tr_idx], y[val_idx]\n",
        "    \n",
        "    # Datasetに入れて学習させる\n",
        "    train_set = lgb.Dataset(x_train, y_train)\n",
        "    val_set = lgb.Dataset(x_val, y_val, reference=train_set)\n",
        "        \n",
        "    # Training\n",
        "    model = lgb.train(params, train_set, num_boost_round=2000, early_stopping_rounds=500,\n",
        "                      valid_sets=[train_set, val_set], verbose_eval=500)\n",
        "    \n",
        "    # 予測したらexpで元に戻す\n",
        "    test_pred = np.exp(model.predict(test))\n",
        "    # 0より小さな値があるとエラーになるので補正\n",
        "    test_pred = np.where(test_pred < 0, 0, test_pred)\n",
        "    pred += test_pred / 5  #  5fold回すので\n",
        "\n",
        "    oof = np.exp(model.predict(x_val))\n",
        "    oof = np.where(oof < 0, 0, oof)\n",
        "    rmsle = np.sqrt(mean_squared_log_error(np.exp(y_val), oof))\n",
        "    print(f\"RMSLE : {rmsle}\")\n",
        "    score += model.best_score[\"valid_1\"][\"rmse\"] / 5"
      ],
      "execution_count": 35,
      "outputs": [
        {
          "output_type": "stream",
          "text": [
            "Training until validation scores don't improve for 500 rounds.\n",
            "[500]\ttraining's rmse: 0.789969\tvalid_1's rmse: 0.852919\n",
            "[1000]\ttraining's rmse: 0.72405\tvalid_1's rmse: 0.837867\n",
            "[1500]\ttraining's rmse: 0.671954\tvalid_1's rmse: 0.83344\n",
            "[2000]\ttraining's rmse: 0.63492\tvalid_1's rmse: 0.829974\n",
            "Did not meet early stopping. Best iteration is:\n",
            "[2000]\ttraining's rmse: 0.63492\tvalid_1's rmse: 0.829974\n",
            "RMSLE : 0.8291092871115427\n",
            "Training until validation scores don't improve for 500 rounds.\n",
            "[500]\ttraining's rmse: 0.78772\tvalid_1's rmse: 0.868292\n",
            "[1000]\ttraining's rmse: 0.717238\tvalid_1's rmse: 0.851734\n",
            "[1500]\ttraining's rmse: 0.672897\tvalid_1's rmse: 0.846488\n",
            "[2000]\ttraining's rmse: 0.636243\tvalid_1's rmse: 0.842501\n",
            "Did not meet early stopping. Best iteration is:\n",
            "[2000]\ttraining's rmse: 0.636243\tvalid_1's rmse: 0.842501\n",
            "RMSLE : 0.8420643386082884\n",
            "Training until validation scores don't improve for 500 rounds.\n",
            "[500]\ttraining's rmse: 0.791867\tvalid_1's rmse: 0.859406\n",
            "[1000]\ttraining's rmse: 0.724602\tvalid_1's rmse: 0.838228\n",
            "[1500]\ttraining's rmse: 0.677643\tvalid_1's rmse: 0.829704\n",
            "[2000]\ttraining's rmse: 0.641037\tvalid_1's rmse: 0.824863\n",
            "Did not meet early stopping. Best iteration is:\n",
            "[2000]\ttraining's rmse: 0.641037\tvalid_1's rmse: 0.824863\n",
            "RMSLE : 0.8242938416846449\n",
            "Training until validation scores don't improve for 500 rounds.\n",
            "[500]\ttraining's rmse: 0.792262\tvalid_1's rmse: 0.886836\n",
            "[1000]\ttraining's rmse: 0.722198\tvalid_1's rmse: 0.870935\n",
            "[1500]\ttraining's rmse: 0.675537\tvalid_1's rmse: 0.865886\n",
            "[2000]\ttraining's rmse: 0.640535\tvalid_1's rmse: 0.864509\n",
            "Did not meet early stopping. Best iteration is:\n",
            "[2000]\ttraining's rmse: 0.640535\tvalid_1's rmse: 0.864509\n",
            "RMSLE : 0.8634812322576785\n",
            "Training until validation scores don't improve for 500 rounds.\n",
            "[500]\ttraining's rmse: 0.790233\tvalid_1's rmse: 0.866957\n",
            "[1000]\ttraining's rmse: 0.72392\tvalid_1's rmse: 0.849449\n",
            "[1500]\ttraining's rmse: 0.674826\tvalid_1's rmse: 0.844184\n",
            "[2000]\ttraining's rmse: 0.63508\tvalid_1's rmse: 0.842047\n",
            "Did not meet early stopping. Best iteration is:\n",
            "[2000]\ttraining's rmse: 0.63508\tvalid_1's rmse: 0.842047\n",
            "RMSLE : 0.8416468369666059\n"
          ],
          "name": "stdout"
        }
      ]
    },
    {
      "cell_type": "code",
      "metadata": {
        "id": "6EIcJ4zcc0Db",
        "colab_type": "code",
        "colab": {
          "base_uri": "https://localhost:8080/",
          "height": 312
        },
        "outputId": "ad39598e-90d3-43a0-f7da-a9a128c1adee"
      },
      "source": [
        "lgb.plot_importance(model, importance_type=\"gain\", max_num_features=20)"
      ],
      "execution_count": 36,
      "outputs": [
        {
          "output_type": "execute_result",
          "data": {
            "text/plain": [
              "<matplotlib.axes._subplots.AxesSubplot at 0x7f94f3e0f978>"
            ]
          },
          "metadata": {
            "tags": []
          },
          "execution_count": 36
        },
        {
          "output_type": "display_data",
          "data": {
            "image/png": "[encoded data removed]",
            "text/plain": [
              "<Figure size 432x288 with 1 Axes>"
            ]
          },
          "metadata": {
            "tags": [],
            "needs_background": "light"
          }
        }
      ]
    },
    {
      "cell_type": "code",
      "metadata": {
        "id": "6HzmshOUc0Dd",
        "colab_type": "code",
        "colab": {
          "base_uri": "https://localhost:8080/",
          "height": 34
        },
        "outputId": "7e0e16c9-b258-4f48-bae6-84a952e08844"
      },
      "source": [
        "print(f\"Mean RMSLE SCORE :{score}\")"
      ],
      "execution_count": 37,
      "outputs": [
        {
          "output_type": "stream",
          "text": [
            "Mean RMSLE SCORE :0.8407787879585761\n"
          ],
          "name": "stdout"
        }
      ]
    },
    {
      "cell_type": "code",
      "metadata": {
        "id": "1eV4Rxo7c0Di",
        "colab_type": "code",
        "colab": {}
      },
      "source": [
        "submit_df = pd.DataFrame({\"y\": pred})\n",
        "submit_df.index.name = \"id\"\n",
        "submit_df.to_csv(\"submit.csv\")"
      ],
      "execution_count": 39,
      "outputs": []
    },
    {
      "cell_type": "code",
      "metadata": {
        "id": "7FVq_ozWhfRa",
        "colab_type": "code",
        "colab": {}
      },
      "source": [
        "from google.colab import files\n",
        "files.download('submit.csv')"
      ],
      "execution_count": 41,
      "outputs": []
    },
    {
      "cell_type": "code",
      "metadata": {
        "id": "BSnZksnKh9D1",
        "colab_type": "code",
        "colab": {}
      },
      "source": [
        ""
      ],
      "execution_count": null,
      "outputs": []
    }
  ]
}