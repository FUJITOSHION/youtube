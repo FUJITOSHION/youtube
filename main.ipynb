{
 "cells": [
  {
   "cell_type": "code",
   "execution_count": 215,
   "metadata": {},
   "outputs": [],
   "source": [
    "import pandas as pd\n",
    "import numpy as np\n",
    "import gc\n",
    "from sklearn.model_selection import KFold\n",
    "from sklearn.metrics import mean_squared_log_error\n",
    "# import lightgbm as lgb\n",
    "from matplotlib_venn import venn2\n",
    "from matplotlib import pyplot\n",
    "from sklearn.preprocessing import LabelEncoder"
   ]
  },
  {
   "cell_type": "code",
   "execution_count": 178,
   "metadata": {},
   "outputs": [],
   "source": [
    "train_df = pd.read_csv('train_data.csv')\n",
    "test_df = pd.read_csv('test_data.csv')"
   ]
  },
  {
   "cell_type": "code",
   "execution_count": 179,
   "metadata": {},
   "outputs": [],
   "source": [
    "train_y = train_df['y']\n",
    "del train_df[\"y\"]"
   ]
  },
  {
   "cell_type": "code",
   "execution_count": 180,
   "metadata": {},
   "outputs": [],
   "source": [
    "df = pd.concat([train_df, test_df])"
   ]
  },
  {
   "cell_type": "markdown",
   "metadata": {},
   "source": [
    "### preprocessing"
   ]
  },
  {
   "cell_type": "code",
   "execution_count": 181,
   "metadata": {},
   "outputs": [],
   "source": [
    "# channelId\n",
    "le_channelId = LabelEncoder()\n",
    "df['channelId'] = le_channelId.fit_transform(df['channelId'])"
   ]
  },
  {
   "cell_type": "code",
   "execution_count": 182,
   "metadata": {},
   "outputs": [],
   "source": [
    "# drop id , video_id  and thumbnail_link\n",
    "del df['id']\n",
    "del df['video_id']\n",
    "del df['thumbnail_link']"
   ]
  },
  {
   "cell_type": "code",
   "execution_count": 183,
   "metadata": {},
   "outputs": [],
   "source": [
    "# publishedAt\n",
    "df[\"publishedAt\"] = pd.to_datetime(df[\"publishedAt\"])\n",
    "df[\"year\"] = df[\"publishedAt\"].dt.year\n",
    "df[\"month\"] = df[\"publishedAt\"].dt.month\n",
    "df[\"day\"] = df[\"publishedAt\"].dt.day\n",
    "df[\"hour\"] = df[\"publishedAt\"].dt.hour\n",
    "df[\"minute\"] = df[\"publishedAt\"].dt.minute\n",
    "del df[\"publishedAt\"]"
   ]
  },
  {
   "cell_type": "code",
   "execution_count": 189,
   "metadata": {},
   "outputs": [],
   "source": [
    "# collection_date\n",
    "df[\"collection_date\"] = \"20\" + df[\"collection_date\"]\n",
    "df[\"collection_date\"] = pd.to_datetime(df[\"collection_date\"], format=\"%Y.%d.%m\")\n",
    "df[\"c_year\"] = df[\"collection_date\"].dt.year\n",
    "df[\"c_month\"] = df[\"collection_date\"].dt.month\n",
    "df[\"c_day\"] = df[\"collection_date\"].dt.day\n",
    "del df[\"collection_date\"]"
   ]
  },
  {
   "cell_type": "code",
   "execution_count": 199,
   "metadata": {},
   "outputs": [],
   "source": [
    "# evaluation\n",
    "df['evaluation'] = df['likes'] + df['dislikes']"
   ]
  },
  {
   "cell_type": "code",
   "execution_count": 203,
   "metadata": {},
   "outputs": [],
   "source": [
    "# 言語処理はあとで行う\n",
    "df = df.drop([\"title\",\"channelTitle\",\"tags\",\"description\"], axis=1)"
   ]
  },
  {
   "cell_type": "code",
   "execution_count": 204,
   "metadata": {},
   "outputs": [
    {
     "data": {
      "text/html": [
       "<div>\n",
       "<style scoped>\n",
       "    .dataframe tbody tr th:only-of-type {\n",
       "        vertical-align: middle;\n",
       "    }\n",
       "\n",
       "    .dataframe tbody tr th {\n",
       "        vertical-align: top;\n",
       "    }\n",
       "\n",
       "    .dataframe thead th {\n",
       "        text-align: right;\n",
       "    }\n",
       "</style>\n",
       "<table border=\"1\" class=\"dataframe\">\n",
       "  <thead>\n",
       "    <tr style=\"text-align: right;\">\n",
       "      <th></th>\n",
       "      <th>channelId</th>\n",
       "      <th>categoryId</th>\n",
       "      <th>likes</th>\n",
       "      <th>dislikes</th>\n",
       "      <th>comment_count</th>\n",
       "      <th>comments_disabled</th>\n",
       "      <th>ratings_disabled</th>\n",
       "      <th>year</th>\n",
       "      <th>month</th>\n",
       "      <th>day</th>\n",
       "      <th>hour</th>\n",
       "      <th>minute</th>\n",
       "      <th>c_year</th>\n",
       "      <th>c_month</th>\n",
       "      <th>c_day</th>\n",
       "      <th>evaluation</th>\n",
       "    </tr>\n",
       "  </thead>\n",
       "  <tbody>\n",
       "    <tr>\n",
       "      <th>0</th>\n",
       "      <td>7498</td>\n",
       "      <td>20</td>\n",
       "      <td>114</td>\n",
       "      <td>0</td>\n",
       "      <td>7</td>\n",
       "      <td>False</td>\n",
       "      <td>False</td>\n",
       "      <td>2011</td>\n",
       "      <td>1</td>\n",
       "      <td>9</td>\n",
       "      <td>5</td>\n",
       "      <td>50</td>\n",
       "      <td>2020</td>\n",
       "      <td>2</td>\n",
       "      <td>1</td>\n",
       "      <td>114</td>\n",
       "    </tr>\n",
       "    <tr>\n",
       "      <th>1</th>\n",
       "      <td>12289</td>\n",
       "      <td>10</td>\n",
       "      <td>2885</td>\n",
       "      <td>50</td>\n",
       "      <td>111</td>\n",
       "      <td>False</td>\n",
       "      <td>False</td>\n",
       "      <td>2012</td>\n",
       "      <td>7</td>\n",
       "      <td>23</td>\n",
       "      <td>3</td>\n",
       "      <td>0</td>\n",
       "      <td>2020</td>\n",
       "      <td>2</td>\n",
       "      <td>8</td>\n",
       "      <td>2935</td>\n",
       "    </tr>\n",
       "  </tbody>\n",
       "</table>\n",
       "</div>"
      ],
      "text/plain": [
       "   channelId  categoryId  likes  dislikes  comment_count  comments_disabled  \\\n",
       "0       7498          20    114         0              7              False   \n",
       "1      12289          10   2885        50            111              False   \n",
       "\n",
       "   ratings_disabled  year  month  day  hour  minute  c_year  c_month  c_day  \\\n",
       "0             False  2011      1    9     5      50    2020        2      1   \n",
       "1             False  2012      7   23     3       0    2020        2      8   \n",
       "\n",
       "   evaluation  \n",
       "0         114  \n",
       "1        2935  "
      ]
     },
     "execution_count": 204,
     "metadata": {},
     "output_type": "execute_result"
    }
   ],
   "source": [
    "df.head(2)"
   ]
  },
  {
   "cell_type": "code",
   "execution_count": 205,
   "metadata": {},
   "outputs": [
    {
     "name": "stdout",
     "output_type": "stream",
     "text": [
      "<class 'pandas.core.frame.DataFrame'>\n",
      "Int64Index: 49302 entries, 0 to 29581\n",
      "Data columns (total 16 columns):\n",
      " #   Column             Non-Null Count  Dtype\n",
      "---  ------             --------------  -----\n",
      " 0   channelId          49302 non-null  int64\n",
      " 1   categoryId         49302 non-null  int64\n",
      " 2   likes              49302 non-null  int64\n",
      " 3   dislikes           49302 non-null  int64\n",
      " 4   comment_count      49302 non-null  int64\n",
      " 5   comments_disabled  49302 non-null  bool \n",
      " 6   ratings_disabled   49302 non-null  bool \n",
      " 7   year               49302 non-null  int64\n",
      " 8   month              49302 non-null  int64\n",
      " 9   day                49302 non-null  int64\n",
      " 10  hour               49302 non-null  int64\n",
      " 11  minute             49302 non-null  int64\n",
      " 12  c_year             49302 non-null  int64\n",
      " 13  c_month            49302 non-null  int64\n",
      " 14  c_day              49302 non-null  int64\n",
      " 15  evaluation         49302 non-null  int64\n",
      "dtypes: bool(2), int64(14)\n",
      "memory usage: 5.7 MB\n"
     ]
    }
   ],
   "source": [
    "df.info()"
   ]
  },
  {
   "cell_type": "code",
   "execution_count": 211,
   "metadata": {},
   "outputs": [],
   "source": [
    "# データの分割\n",
    "train = df.iloc[:len(train_y), :]\n",
    "test = df.iloc[len(train_y):, :]"
   ]
  },
  {
   "cell_type": "code",
   "execution_count": 213,
   "metadata": {},
   "outputs": [],
   "source": [
    "# kfold\n",
    "cv = KFold(n_splits=5, shuffle=True, random_state=10)\n",
    "params = {\n",
    "    'boosting_type': 'gbdt',\n",
    "    'metric': 'rmse',\n",
    "    'objective': 'regression',\n",
    "    'seed': 20,\n",
    "    'learning_rate': 0.01,\n",
    "    \"n_jobs\": -1,\n",
    "    \"verbose\": -1\n",
    "}"
   ]
  },
  {
   "cell_type": "code",
   "execution_count": 216,
   "metadata": {},
   "outputs": [],
   "source": [
    "y = np.log(train_y)"
   ]
  },
  {
   "cell_type": "markdown",
   "metadata": {},
   "source": [
    "###  training"
   ]
  },
  {
   "cell_type": "code",
   "execution_count": 218,
   "metadata": {},
   "outputs": [
    {
     "name": "stdout",
     "output_type": "stream",
     "text": [
      "[    0     7     9 ... 19716 19718 19719]\n"
     ]
    },
    {
     "ename": "SystemExit",
     "evalue": "",
     "output_type": "error",
     "traceback": [
      "An exception has occurred, use %tb to see the full traceback.\n",
      "\u001b[0;31mSystemExit\u001b[0m\n"
     ]
    }
   ],
   "source": [
    "for tr_idx, val_idx in cv.split(train):\n",
    "    x_train, x_val = train.iloc[tr_idx], train.iloc[val_idx]\n",
    "    y_train, y_val = y[tr_idx], y[val_idx]\n",
    "    \n",
    "    # Datasetに入れて学習させる\n",
    "    train_set = lgb.Dataset(x_train, y_train)\n",
    "    val_set = lgb.Dataset(x_val, y_val, reference=train_set)\n",
    "        \n",
    "    # Training\n",
    "    model = lgb.train(params, train_set, num_boost_round=24000, early_stopping_rounds=100,\n",
    "                      valid_sets=[train_set, val_set], verbose_eval=500)\n",
    "    \n",
    "    # 予測したらexpで元に戻す\n",
    "    test_pred = np.exp(model.predict(test))\n",
    "    # 0より小さな値があるとエラーになるので補正\n",
    "    test_pred = np.where(test_pred < 0, 0, test_pred)\n",
    "    pred += test_pred / 5  #  5fold回すので\n",
    "\n",
    "    oof = np.exp(model.predict(x_val))\n",
    "    oof = np.where(oof < 0, 0, oof)\n",
    "    rmsle = np.sqrt(mean_squared_log_error(np.exp(y_val), oof))\n",
    "    print(f\"RMSLE : {rmsle}\")\n",
    "    score += model.best_score[\"valid_1\"][\"rmse\"] / 5"
   ]
  },
  {
   "cell_type": "code",
   "execution_count": null,
   "metadata": {},
   "outputs": [],
   "source": [
    "lgb.plot_importance(model, importance_type=\"gain\", max_num_features=20)"
   ]
  },
  {
   "cell_type": "code",
   "execution_count": null,
   "metadata": {},
   "outputs": [],
   "source": [
    "print(f\"Mean RMSLE SCORE :{score}\")"
   ]
  },
  {
   "cell_type": "code",
   "execution_count": null,
   "metadata": {},
   "outputs": [],
   "source": [
    "submit_df = pd.DataFrame({\"y\": pred})\n",
    "submit_df.index.name = \"id\"\n",
    "submit_df.to_csv(\"submit.csv\")"
   ]
  }
 ],
 "metadata": {
  "jupytext": {
   "text_representation": {
    "extension": ".py",
    "format_name": "light",
    "format_version": "1.5",
    "jupytext_version": "1.5.0"
   }
  },
  "kernelspec": {
   "display_name": "Python 3",
   "language": "python",
   "name": "python3"
  },
  "language_info": {
   "codemirror_mode": {
    "name": "ipython",
    "version": 3
   },
   "file_extension": ".py",
   "mimetype": "text/x-python",
   "name": "python",
   "nbconvert_exporter": "python",
   "pygments_lexer": "ipython3",
   "version": "3.7.6"
  }
 },
 "nbformat": 4,
 "nbformat_minor": 4
}
